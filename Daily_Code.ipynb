{
 "cells": [
  {
   "cell_type": "code",
   "execution_count": 1,
   "id": "9ed841ca",
   "metadata": {},
   "outputs": [
    {
     "name": "stdout",
     "output_type": "stream",
     "text": [
      "Enter the dividend: 23\n",
      "Enter the divisor: 3\n",
      "The quotient of 23.0 divided by 3.0 is: 7\n"
     ]
    }
   ],
   "source": [
    "def divide(dividend, divisor):\n",
    "    quotient = 0\n",
    "    while dividend >= divisor:\n",
    "        dividend -= divisor\n",
    "        quotient += 1\n",
    "    return quotient\n",
    "dividend = float(input(\"Enter the dividend: \"))\n",
    "divisor = float(input(\"Enter the divisor: \"))\n",
    "result = divide(dividend, divisor)\n",
    "print(\"The quotient of\", dividend, \"divided by\", divisor, \"is:\", result)\n"
   ]
  },
  {
   "cell_type": "code",
   "execution_count": 16,
   "id": "a0783820",
   "metadata": {},
   "outputs": [
    {
     "name": "stdout",
     "output_type": "stream",
     "text": [
      "Is BST\n"
     ]
    }
   ],
   "source": [
    "class Node:\n",
    "    def __init__(self, val=None, left=None, right=None):\n",
    "        self.val = val\n",
    "        self.left = left\n",
    "        self.right = right\n",
    "def is_bst(root):\n",
    "    def is_bst_helper(node, min_val, max_val):\n",
    "        if not node:\n",
    "            return True\n",
    "        if min_val and node.val <= min_val:\n",
    "            return False\n",
    "        if max_val and node.val >= max_val:\n",
    "            return False\n",
    "        left_is_bst = is_bst_helper(node.left, min_val, node.val)\n",
    "        right_is_bst = is_bst_helper(node.right, node.val, max_val)\n",
    "        return left_is_bst and right_is_bst\n",
    "    return is_bst_helper(root, None, None)\n",
    "root = Node(5)\n",
    "root.left = Node(1)\n",
    "root.right = Node(9)\n",
    "root.right.left = Node(7)\n",
    "root.right.right = Node(10)\n",
    "root.right.left.left = Node(6)\n",
    "root.right.left.right = Node(8)\n",
    "\n",
    "if is_bst(root) is True:\n",
    "    print(\"BST\")\n",
    "else:\n",
    "    print(\"Not BST\")\n"
   ]
  },
  {
   "cell_type": "code",
   "execution_count": null,
   "id": "f93295dd",
   "metadata": {},
   "outputs": [],
   "source": []
  }
 ],
 "metadata": {
  "kernelspec": {
   "display_name": "Python 3 (ipykernel)",
   "language": "python",
   "name": "python3"
  },
  "language_info": {
   "codemirror_mode": {
    "name": "ipython",
    "version": 3
   },
   "file_extension": ".py",
   "mimetype": "text/x-python",
   "name": "python",
   "nbconvert_exporter": "python",
   "pygments_lexer": "ipython3",
   "version": "3.10.7"
  }
 },
 "nbformat": 4,
 "nbformat_minor": 5
}
