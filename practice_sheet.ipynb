{
 "cells": [
  {
   "cell_type": "markdown",
   "id": "03de3bdc",
   "metadata": {},
   "source": [
    "# Given a 2D matrix of characters and a target word, write a function that returns whether the word can be found in the matrix by going left-to-right, or up-to-down."
   ]
  },
  {
   "cell_type": "code",
   "execution_count": null,
   "id": "62bf9a2a",
   "metadata": {},
   "outputs": [],
   "source": [
    "m=[['F', 'A', 'C', 'I'],\n",
    " ['O', 'B', 'Q', 'P'],\n",
    " ['A', 'N', 'O', 'B'],\n",
    " ['M', 'A', 'S', 'S']]"
   ]
  },
  {
   "cell_type": "code",
   "execution_count": 3,
   "id": "c2ce9981",
   "metadata": {},
   "outputs": [
    {
     "name": "stdout",
     "output_type": "stream",
     "text": [
      "True\n",
      "True\n"
     ]
    }
   ],
   "source": [
    "l=[]\n",
    "l2=[]\n",
    "vr=len(m)\n",
    "hr=len(m[0])\n",
    "word=\"MASS\"\n",
    "words=\"ABNA\"\n",
    "for i in m:\n",
    "    l.append(\"\".join(i))\n",
    "if word in l:\n",
    "    print(\"True\")\n",
    "else:\n",
    "    print(\"False\")\n",
    "for i in range(0,vr):\n",
    "    l1=[]\n",
    "    for j in range(0,hr):\n",
    "        l1.append(m[j][i])\n",
    "    l2.append(\"\".join(l1))\n",
    "if words in l2:\n",
    "    print(\"True\")\n",
    "else:\n",
    "    print(\"False\")"
   ]
  },
  {
   "cell_type": "code",
   "execution_count": 5,
   "id": "c4f3efa2",
   "metadata": {},
   "outputs": [
    {
     "name": "stdout",
     "output_type": "stream",
     "text": [
      "True\n",
      "True\n"
     ]
    }
   ],
   "source": [
    "def find_word(matrix, word):\n",
    "    for row in matrix:\n",
    "#         print(row)\n",
    "        if word in ''.join(row):\n",
    "            return True\n",
    "        \n",
    "    for j in range(len(matrix[0])):\n",
    "        if word in ''.join(matrix[i][j] for i in range(len(matrix))):\n",
    "            return True\n",
    "    return False\n",
    "\n",
    "\n",
    "matrix = [['F', 'A', 'C', 'I'], ['O', 'B', 'Q', 'P'], ['A', 'N', 'O', 'B'], ['M', 'A', 'S', 'S']]\n",
    "word1 = 'MASS'\n",
    "word2 = 'MASS'\n",
    "print(find_word(matrix, word1)) \n",
    "print(find_word(matrix, word2)) "
   ]
  },
  {
   "cell_type": "markdown",
   "id": "4d1c094b",
   "metadata": {},
   "source": [
    "# Given a hashmap associating each courseId key with a list of courseIds values, which represents that the prerequisites of courseId are courseIds. Return a sorted ordering of courses such that we can finish all courses.\n",
    "Return null if there is no such ordering."
   ]
  },
  {
   "cell_type": "code",
   "execution_count": 13,
   "id": "d5378222",
   "metadata": {},
   "outputs": [
    {
     "name": "stdout",
     "output_type": "stream",
     "text": [
      "[('CSC300', 2), ('CSC200', 1), ('CSC100', 0)]\n",
      "[('CSC100', 0), ('CSC200', 1), ('CSC300', 2)]\n",
      "['CSC100', 'CSC200', 'CSC300']\n"
     ]
    }
   ],
   "source": [
    "def sortCourseId(courseId):\n",
    "    a = []\n",
    "    for k in courseId:\n",
    "        v = k, len(courseId[k])\n",
    "        a.append(v)\n",
    "    print(a)   \n",
    "    a.sort(key=lambda x: x[1])\n",
    "    print(a)\n",
    "    b = [b[0] for b in a]\n",
    "\n",
    "    return b\n",
    "\n",
    "\n",
    "courseId = {'CSC300': ['CSC100', 'CSC200'], 'CSC200': ['CSC100'], 'CSC100': []}\n",
    "\n",
    "result = sortCourseId(courseId)\n",
    "print(result)\n",
    "\n"
   ]
  },
  {
   "cell_type": "code",
   "execution_count": null,
   "id": "b98460f8",
   "metadata": {},
   "outputs": [],
   "source": []
  }
 ],
 "metadata": {
  "kernelspec": {
   "display_name": "Python 3 (ipykernel)",
   "language": "python",
   "name": "python3"
  },
  "language_info": {
   "codemirror_mode": {
    "name": "ipython",
    "version": 3
   },
   "file_extension": ".py",
   "mimetype": "text/x-python",
   "name": "python",
   "nbconvert_exporter": "python",
   "pygments_lexer": "ipython3",
   "version": "3.10.7"
  }
 },
 "nbformat": 4,
 "nbformat_minor": 5
}
